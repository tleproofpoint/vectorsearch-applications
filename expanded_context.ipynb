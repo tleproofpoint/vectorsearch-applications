{
 "cells": [
  {
   "cell_type": "code",
   "execution_count": 4,
   "id": "208b6f8b-09bb-4e2c-bf8b-a5410ceffebc",
   "metadata": {},
   "outputs": [
    {
     "name": "stdout",
     "output_type": "stream",
     "text": [
      "The autoreload extension is already loaded. To reload it, use:\n",
      "  %reload_ext autoreload\n"
     ]
    }
   ],
   "source": [
    "%load_ext autoreload\n",
    "%autoreload 2\n",
    "\n",
    "from typing import List\n",
    "from preprocessing import FileIO\n",
    "import tiktoken # bad ass tokenizer library for use with OpenAI LLMs "
   ]
  },
  {
   "cell_type": "markdown",
   "id": "3f4ec563-b06e-4984-bdd6-a97b0007bbdb",
   "metadata": {},
   "source": [
    "## As a reminder, in practice you would likely create \"parent chunks\" as part of your preprocessing step and store the larger context directly in your database.  Text is cheap to store.  "
   ]
  },
  {
   "cell_type": "markdown",
   "id": "33eb4b99-259e-428e-ae09-f90bb1cf5d37",
   "metadata": {},
   "source": [
    "### Load data from disk"
   ]
  },
  {
   "cell_type": "code",
   "execution_count": 5,
   "id": "3eaee65d-0a33-42f3-b6f2-5c02945fa0f6",
   "metadata": {},
   "outputs": [
    {
     "name": "stdout",
     "output_type": "stream",
     "text": [
      "Shape of data: (26448, 12)\n",
      "Memory Usage: 2.42+ MB\n"
     ]
    }
   ],
   "source": [
    "#data needs to already have doc_ids included\n",
    "data = FileIO().load_parquet('../impact-theory-new-ft-model-256.parquet')"
   ]
  },
  {
   "cell_type": "markdown",
   "id": "1340d0bd-b9cd-4895-96ab-88f13da4f2a8",
   "metadata": {},
   "source": [
    "### Regroup Episodes using `video_id`\n",
    "Groups data into discrete episodes using the video_id key"
   ]
  },
  {
   "cell_type": "code",
   "execution_count": 6,
   "id": "8c614af7-7884-4541-86b7-c7d459a18679",
   "metadata": {},
   "outputs": [],
   "source": [
    "from itertools import groupby\n",
    "\n",
    "def groupby_episode(data: List[dict], key_field: str='video_id') -> List[List[dict]]:\n",
    "    '''\n",
    "    Separates entire Impact Theory corpus into individual \n",
    "    lists of discrete episodes.\n",
    "    '''\n",
    "    episodes = []\n",
    "    for key, group in groupby(data, lambda x: x[key_field]):\n",
    "        episode = [chunk for chunk in group]\n",
    "        episodes.append(episode)\n",
    "    return episodes"
   ]
  },
  {
   "cell_type": "code",
   "execution_count": 7,
   "id": "be96980a-e3e9-4ce2-a999-0f9cdd61c581",
   "metadata": {},
   "outputs": [],
   "source": [
    "all_episodes = groupby_episode(data)"
   ]
  },
  {
   "cell_type": "markdown",
   "id": "9dbf6408-74ef-45f6-a41e-71a73e25ecfe",
   "metadata": {},
   "source": [
    "### Combine episode chunks into Parent Chunks one for each doc_id"
   ]
  },
  {
   "cell_type": "code",
   "execution_count": 8,
   "id": "77b07c0f-5ac2-4354-8007-c92c0e38eb8c",
   "metadata": {},
   "outputs": [],
   "source": [
    "def create_parent_chunks(episode_list: List[list], window_size: int=2) -> List[dict]:\n",
    "    '''\n",
    "    Creates parent chunks from original chunk of text, for use with \n",
    "    small to big retrieval.  Window size sets number of chunks before\n",
    "    and after the original chunk.  For example a window_size of 2 will \n",
    "    return five joined chunks.  2 chunks before original, the original, \n",
    "    and 2 chunks after the original.  Chunks are kept in sequence by \n",
    "    using the doc_id field. \n",
    "    '''\n",
    "    parent_chunks = []\n",
    "    for episode in episode_list:\n",
    "        contents = [d['content'] for d in episode]\n",
    "        for i, d in enumerate(episode):\n",
    "            doc_id = d['doc_id']\n",
    "            start = max(0, i-window_size)\n",
    "            end = i+window_size+1\n",
    "            chunk = ' '.join(contents[start:end])\n",
    "            parent_chunks.append({doc_id:chunk})\n",
    "    return parent_chunks"
   ]
  },
  {
   "cell_type": "code",
   "execution_count": 10,
   "id": "b80b321f-aa9b-457f-93fd-ba2dca2b29eb",
   "metadata": {},
   "outputs": [],
   "source": [
    "parent_chunks = create_parent_chunks(all_episodes, window_size=1)"
   ]
  },
  {
   "cell_type": "markdown",
   "id": "b813f17a-83b9-45b7-8de5-8735a717da4d",
   "metadata": {},
   "source": [
    "### Create in-memory cache and save back to disk (for use with RAG app)"
   ]
  },
  {
   "cell_type": "code",
   "execution_count": 15,
   "id": "a173eecb-8519-4abd-8750-6cac201fbae2",
   "metadata": {},
   "outputs": [],
   "source": [
    "def create_parent_chunk_cache(parent_chunks: List[dict]) -> dict:\n",
    "    '''\n",
    "    Creates a simple in-memory cache for quick parent chunk lookup.\n",
    "    Used for small-to-big retrieval in a RAG system.\n",
    "    '''\n",
    "    content_cache = {}\n",
    "    for chunk in parent_chunks:\n",
    "        for k,v in chunk.items():\n",
    "            content_cache[k] = v\n",
    "    return content_cache"
   ]
  },
  {
   "cell_type": "markdown",
   "id": "7dac66c1-d773-4743-a077-1cc9cfc822d7",
   "metadata": {},
   "source": [
    "Cache can now be used as a lookup table using doc_id as the primary key.  Use the smaller content to display in the UI but feed the LLM a larger context window by using the cache.  \n",
    "In your cache, you should have the same number of keys as there were chunks in the original data, in this case **26,448** keys/doc_ids."
   ]
  },
  {
   "cell_type": "code",
   "execution_count": 19,
   "id": "cae63708-2e50-48da-88d7-dfdb043982bb",
   "metadata": {},
   "outputs": [],
   "source": [
    "cache = create_parent_chunk_cache(parent_chunks)"
   ]
  },
  {
   "cell_type": "markdown",
   "id": "de2026e8-512e-466f-ad67-a7ad57533997",
   "metadata": {},
   "source": [
    "### Example: Original \"small\" data"
   ]
  },
  {
   "cell_type": "code",
   "execution_count": 32,
   "id": "a8cf1e3b-1684-4a06-82c9-3bea96bf1e9f",
   "metadata": {},
   "outputs": [],
   "source": [
    "sample_doc_id = 'nXJBccSwtB8_50'"
   ]
  },
  {
   "cell_type": "code",
   "execution_count": 33,
   "id": "a33a49e0-7a84-49b0-8a76-24700e794353",
   "metadata": {},
   "outputs": [
    {
     "data": {
      "text/plain": [
       "[\"And that means getting a handle on this technology, and working to help it work for humanity with humanity, as opposed to, you know, not against it, but, you know, kind of irrelevant to it. We don't want technology that does not consider human beings as relevant on the planet. You can reboot your life, your health, even your career, anything you want. All you need is discipline. I can teach you the tactics that I learned while growing a billion dollar business that will allow you to see your goals through. Whether you want better health, stronger relationships, a more successful career, any of that is possible with the mindset and business programs in Impact Theory University. Join the thousands of students who have already accomplished amazing things. Tap now for a free trial and get started today. No, I agree with that. The thing that I think that we're going to have to contend with, though, is what is a governmental response going to be to the potential of their weakened power? So we know how China is dealing with it. So it was really amazing to watch China open up the capital markets and really just explode. And in your book, you talk about this.\"]"
      ]
     },
     "execution_count": 33,
     "metadata": {},
     "output_type": "execute_result"
    }
   ],
   "source": [
    "[d['content'] for d in data if d['doc_id'] == sample_doc_id]"
   ]
  },
  {
   "cell_type": "markdown",
   "id": "48683d88-9099-451e-a91b-eb67be1a6422",
   "metadata": {},
   "source": [
    "### Example: Expanded context (\"large\" data)"
   ]
  },
  {
   "cell_type": "code",
   "execution_count": 34,
   "id": "24099d22-4ff2-4953-9bf7-c48d683979fe",
   "metadata": {},
   "outputs": [
    {
     "data": {
      "text/plain": [
       "\"Like, I mean, honestly, I haven't really said this publicly, but we're having a broad enough discussion. Like, I'm, how old are you? 47. Okay, I'm 53. I think that, knock on wood, I don't think that either of us are likely to die of natural causes. I think at our age, we are probably either going to blow ourselves up, you know, as humans, or we're going to have such extraordinary technological advances, that we will be able to dramatically extend lifespans to in ways that are I mean, you know, dealing with with cell death and, and molecular destruction and genetic engineering. And I mean, just looking at what is ahead of us over the next 10-20 years, this does not feel remotely sustainable. But that doesn't mean it's horrible. That means it's one of two tail risks. And I just can't tell if it's the great one or the bad one. But to the extent that I have any role on this planet, I'd like to nudge us, as I know you would do, in the better direction. And that means getting a handle on this technology, and working to help it work for humanity with humanity, as opposed to, you know, not against it, but, you know, kind of irrelevant to it. We don't want technology that does not consider human beings as relevant on the planet. You can reboot your life, your health, even your career, anything you want. All you need is discipline. I can teach you the tactics that I learned while growing a billion dollar business that will allow you to see your goals through. Whether you want better health, stronger relationships, a more successful career, any of that is possible with the mindset and business programs in Impact Theory University. Join the thousands of students who have already accomplished amazing things. Tap now for a free trial and get started today. No, I agree with that. The thing that I think that we're going to have to contend with, though, is what is a governmental response going to be to the potential of their weakened power? So we know how China is dealing with it. So it was really amazing to watch China open up the capital markets and really just explode. And in your book, you talk about this. And I found it a really interesting insight that that forced me to reorient my thinking about what China did. And so, you know, if you've read Mao, The Untold Story, it's like it's just devastating to see how much death and destruction came out of an authoritarian government. And then at the same time, you're like, I don't know that America's approach is always the right, the most optimal answer. I forget the exact words you used to every problem. And what you pointed out with China when they opened up, like just the growth rate was pure insanity and is really pretty breathtaking. But they learned from the collapse of Russia exactly what not to do. And now they're clamping back down. Now, as somebody that grew up in the U.S., man, I look at that. I'm just like, dude, that I don't like that. That freaks me out. The thought of always being on that razor's edge of like the individual doesn't matter and we can just completely obliterate you. But then I watch not even the government necessarily in the U.S., but the people in the U.S.\""
      ]
     },
     "execution_count": 34,
     "metadata": {},
     "output_type": "execute_result"
    }
   ],
   "source": [
    "cache[sample_doc_id]"
   ]
  },
  {
   "cell_type": "markdown",
   "id": "3aa8b33b-561a-448e-a60d-a97dc052f603",
   "metadata": {},
   "source": [
    "### Example: Highlighting where the original context is\n",
    "\n",
    "\"Like, I mean, honestly, I haven't really said this publicly, but we're having a broad enough discussion. Like, I'm, how old are you? 47. Okay, I'm 53. I think that, knock on wood, I don't think that either of us are likely to die of natural causes. I think at our age, we are probably either going to blow ourselves up, you know, as humans, or we're going to have such extraordinary technological advances, that we will be able to dramatically extend lifespans to in ways that are I mean, you know, dealing with with cell death and, and molecular destruction and genetic engineering. And I mean, just looking at what is ahead of us over the next 10-20 years, this does not feel remotely sustainable. But that doesn't mean it's horrible. That means it's one of two tail risks. And I just can't tell if it's the great one or the bad one. But to the extent that I have any role on this planet, I'd like to nudge us, as I know you would do, in the better direction. **And that means getting a handle on this technology, and working to help it work for humanity with humanity, as opposed to, you know, not against it, but, you know, kind of irrelevant to it. We don't want technology that does not consider human beings as relevant on the planet. You can reboot your life, your health, even your career, anything you want. All you need is discipline. I can teach you the tactics that I learned while growing a billion dollar business that will allow you to see your goals through. Whether you want better health, stronger relationships, a more successful career, any of that is possible with the mindset and business programs in Impact Theory University. Join the thousands of students who have already accomplished amazing things. Tap now for a free trial and get started today. No, I agree with that. The thing that I think that we're going to have to contend with, though, is what is a governmental response going to be to the potential of their weakened power? So we know how China is dealing with it. So it was really amazing to watch China open up the capital markets and really just explode. And in your book, you talk about this.** And I found it a really interesting insight that that forced me to reorient my thinking about what China did. And so, you know, if you've read Mao, The Untold Story, it's like it's just devastating to see how much death and destruction came out of an authoritarian government. And then at the same time, you're like, I don't know that America's approach is always the right, the most optimal answer. I forget the exact words you used to every problem. And what you pointed out with China when they opened up, like just the growth rate was pure insanity and is really pretty breathtaking. But they learned from the collapse of Russia exactly what not to do. And now they're clamping back down. Now, as somebody that grew up in the U.S., man, I look at that. I'm just like, dude, that I don't like that. That freaks me out. The thought of always being on that razor's edge of like the individual doesn't matter and we can just completely obliterate you. But then I watch not even the government necessarily in the U.S., but the people in the U.S.\""
   ]
  },
  {
   "cell_type": "markdown",
   "id": "e1f81967-d4a1-4226-ad5b-d7f29f257bc4",
   "metadata": {},
   "source": [
    "#### As a reminder, in practice you would likely create \"parent chunks\" as part of your preprocessing step and store the larger context directly in your database.  Text is cheap to store.  "
   ]
  },
  {
   "cell_type": "code",
   "execution_count": null,
   "id": "b4848c0e-16ad-42a6-8c9e-f3b27d375027",
   "metadata": {},
   "outputs": [],
   "source": []
  }
 ],
 "metadata": {
  "kernelspec": {
   "display_name": "openai",
   "language": "python",
   "name": "openai"
  },
  "language_info": {
   "codemirror_mode": {
    "name": "ipython",
    "version": 3
   },
   "file_extension": ".py",
   "mimetype": "text/x-python",
   "name": "python",
   "nbconvert_exporter": "python",
   "pygments_lexer": "ipython3",
   "version": "3.10.13"
  }
 },
 "nbformat": 4,
 "nbformat_minor": 5
}
